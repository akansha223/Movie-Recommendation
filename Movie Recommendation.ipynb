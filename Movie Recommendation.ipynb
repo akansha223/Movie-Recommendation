{
 "cells": [
  {
   "cell_type": "markdown",
   "metadata": {},
   "source": [
    "# Movie Recommendation for a User using Similarity Matching.\n",
    "The below codes uses Pearson Correlation for identify best match for a UserX to recommend movie that the UserX has the watched yet. \n",
    "The best matched is based on the ratings of other users who have watched the movie."
   ]
  },
  {
   "cell_type": "code",
   "execution_count": null,
   "metadata": {},
   "outputs": [],
   "source": [
    "# import math\n",
    "from operator import itemgetter"
   ]
  },
  {
   "cell_type": "code",
   "execution_count": 19,
   "metadata": {},
   "outputs": [],
   "source": [
    "# definie class similarity\n",
    "class similarity:\n",
    "    \n",
    "    # Class instantiation \n",
    "    def __init__ (self, ratingP, ratingQ):\n",
    "        self.ratings1 = ratingP\n",
    "        self.ratings2 = ratingQ\n",
    "\n",
    "\n",
    "    # Pearson Correlation between two vectors\n",
    "    def pearson(self):\n",
    "        \n",
    "        n=0\n",
    "        for k in (set(self.ratings1.keys()) & set(self.ratings2.keys())):\n",
    "            n+=1\n",
    "            \n",
    "\n",
    "        if (n == 0):        \n",
    "            return -2 \n",
    "    \n",
    "        # use a SINGLE for loop to calculate the partial sums\n",
    "        p = 0\n",
    "        q = 0\n",
    "        p_times_y = 0\n",
    "        sum_p = 0\n",
    "        sum_q = 0\n",
    "        p_square = 0\n",
    "        q_square = 0\n",
    "        for k in (set(self.ratings1.keys()) & set(self.ratings2.keys())):\n",
    "            p = self.ratings1[k]\n",
    "            q = self.ratings2[k]\n",
    "            p_times_y += p*q\n",
    "            sum_p += p\n",
    "            sum_q += q\n",
    "            p_square += pow(p, 2)\n",
    "            q_square += pow(q, 2)\n",
    "\n",
    "        numerator = p_times_y - ((sum_p*sum_q)/n)\n",
    "\n",
    "        denominator = pow((p_square - pow(sum_p, 2) / n),0.5) * pow((q_square - pow(sum_q, 2) / n),0.5)\n",
    "        \n",
    "        if (denominator == 0):        \n",
    "            return -2 \n",
    "\n",
    "        r = (numerator/denominator)\n",
    "        return r\n"
   ]
  },
  {
   "cell_type": "code",
   "execution_count": 20,
   "metadata": {},
   "outputs": [],
   "source": [
    "#sample dummy data\n",
    "MovieData = {\"Meryl\": {\"Avatar\": 3.5, \"Shutter Island\": 2.0, \"Avengers: Endgame\": 4.5, \"Guardians of the Galaxy\": 5.0, \"Pulp Fiction\": 1.5, \"The Strokes\": 2.5, \"Shrek\": 2.0},\n",
    "         \"Billy\":{\"Avatar\": 2.0, \"Shutter Island\": 3.5, \"The Notebook\": 4.0, \"Guardians of the Galaxy\": 2.0, \"Pulp Fiction\": 3.5, \"Shrek\": 3.0},\n",
    "         \"Chen\": {\"Avatar\": 5.0, \"Shutter Island\": 1.0, \"The Notebook\": 1.0, \"Avengers: Endgame\": 3.0, \"Guardians of the Galaxy\": 5, \"Pulp Fiction\": 1.0},\n",
    "         \"Daniel\": {\"Avatar\": 3.0, \"Shutter Island\": 4.0, \"The Notebook\": 4.5, \"Guardians of the Galaxy\": 3.0, \"Pulp Fiction\": 4.5, \"The Strokes\": 4.0, \"Shrek\": 2.0},\n",
    "         \"Berry\": {\"Shutter Island\": 4.0, \"The Notebook\": 1.0, \"Avengers: Endgame\": 4.0, \"The Strokes\": 4.0, \"Shrek\": 1.0},\n",
    "         \"Kylie\":  {\"Shutter Island\": 4.5, \"The Notebook\": 4.0, \"Avengers: Endgame\": 5.0, \"Guardians of the Galaxy\": 5.0, \"Pulp Fiction\": 4.5, \"Doctor Strange\": 4.0, \"Shrek\": 4.0},\n",
    "         \"Samuel\": {\"Avatar\": 5.0, \"Shutter Island\": 2.0, \"Avengers: Endgame\": 3.0, \"Guardians of the Galaxy\": 5.0, \"Pulp Fiction\": 4.0, \"Doctor Strange\": 5.0},\n",
    "         \"Kim\": {\"Avatar\": 3.0, \"Avengers: Endgame\": 5.0, \"Guardians of the Galaxy\": 4.0, \"Pulp Fiction\": 2.5, \"Doctor Strange\": 3.0}\n",
    "        }\n"
   ]
  },
  {
   "cell_type": "code",
   "execution_count": 21,
   "metadata": {},
   "outputs": [],
   "source": [
    "#Enter the UserX name\n",
    "userX = \"Kim\"\n",
    "userXRatings = MovieData[userX]"
   ]
  },
  {
   "cell_type": "code",
   "execution_count": 22,
   "metadata": {},
   "outputs": [
    {
     "name": "stdout",
     "output_type": "stream",
     "text": [
      "[('Meryl', 0.8133919626435626), ('Billy', -0.7559289460184542), ('Chen', 0.27477403519260085), ('Daniel', -0.7559289460184542), ('Berry', -2), ('Kylie', 0.7458152383799166), ('Samuel', -0.5590169943749471)]\n"
     ]
    }
   ],
   "source": [
    "#Creating a new dictionary without the userX\n",
    "newData = MovieData.copy()\n",
    "\n",
    "for (key, value) in MovieData.items():\n",
    "    if key==userX:\n",
    "        del newData[key]\n",
    "\n",
    "lst = []\n",
    "for userY, userYRatings in newData.items():\n",
    "    pearXY = similarity(userXRatings,userYRatings)\n",
    "    tup = pearXY.pearson()\n",
    "    userSimilarities = (userY, tup)\n",
    "    lst.append(userSimilarities)\n",
    "\n",
    "print(lst)"
   ]
  },
  {
   "cell_type": "code",
   "execution_count": 23,
   "metadata": {},
   "outputs": [
    {
     "name": "stdout",
     "output_type": "stream",
     "text": [
      "[('Meryl', 0.8133919626435626), ('Kylie', 0.7458152383799166), ('Chen', 0.27477403519260085), ('Samuel', -0.5590169943749471), ('Billy', -0.7559289460184542), ('Daniel', -0.7559289460184542), ('Berry', -2)]\n"
     ]
    }
   ],
   "source": [
    "# sort the list of tuples by highest simialrity to lowest similarity.\n",
    "sortedUserSimilarities = sorted(lst, key=itemgetter(1), reverse=True)\n",
    "print (sortedUserSimilarities)"
   ]
  },
  {
   "cell_type": "code",
   "execution_count": 24,
   "metadata": {},
   "outputs": [
    {
     "name": "stdout",
     "output_type": "stream",
     "text": [
      "Meryl\n"
     ]
    }
   ],
   "source": [
    "# userX's NN is the user at the 0th position of the sorted list.\n",
    "# assign the NN to a variable called userXNN.\n",
    "\n",
    "userXNN = sortedUserSimilarities[0][0]\n",
    "print(userXNN)"
   ]
  },
  {
   "cell_type": "code",
   "execution_count": 25,
   "metadata": {},
   "outputs": [
    {
     "name": "stdout",
     "output_type": "stream",
     "text": [
      "[('Shutter Island', 2.0), ('The Strokes', 2.5), ('Shrek', 2.0)]\n"
     ]
    }
   ],
   "source": [
    "# recos for userX should include movies rated by userXNN, not already rated by userX.\n",
    "# assign the list of (movie, rating) tuples to a variable called userXRecos.\n",
    "userXRecos = []\n",
    "    # now find bands neighbor rated that user didn't\n",
    "neighborRatings = MovieData[userXNN]\n",
    "for artist in neighborRatings:\n",
    "    if not artist in userXRatings:\n",
    "        userXRecos.append((artist, neighborRatings[artist]))\n",
    "print(userXRecos)"
   ]
  },
  {
   "cell_type": "code",
   "execution_count": 26,
   "metadata": {},
   "outputs": [
    {
     "name": "stdout",
     "output_type": "stream",
     "text": [
      "Recommendations for Kim\n",
      "--------------------------\n",
      "\n",
      "[('The Strokes', 2.5), ('Shutter Island', 2.0), ('Shrek', 2.0)]\n"
     ]
    }
   ],
   "source": [
    "userXSortedRecos = sorted(userXRecos, key=lambda x : x[1], reverse = True)\n",
    "print (\"Recommendations for\", userX)\n",
    "print (\"--------------------------\")\n",
    "print ()\n",
    "print (userXSortedRecos)\n"
   ]
  },
  {
   "cell_type": "markdown",
   "metadata": {},
   "source": []
  }
 ],
 "metadata": {
  "kernelspec": {
   "display_name": "Python 3",
   "language": "python",
   "name": "python3"
  },
  "language_info": {
   "codemirror_mode": {
    "name": "ipython",
    "version": 3
   },
   "file_extension": ".py",
   "mimetype": "text/x-python",
   "name": "python",
   "nbconvert_exporter": "python",
   "pygments_lexer": "ipython3",
   "version": "3.7.3"
  }
 },
 "nbformat": 4,
 "nbformat_minor": 2
}
